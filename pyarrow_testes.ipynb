{
  "cells": [
    {
      "cell_type": "markdown",
      "metadata": {
        "id": "Y5zcTldh9qHz"
      },
      "source": [
        "# Testando pyarrow e seu desempenho em relação ao python com JSON, um case iremos lidar com strings de json em uma lista, no outro case sera uma lista de dicionarios normal, em ambas, será criado um df em pyspark, pyarrow demonstra superioridade"
      ]
    },
    {
      "cell_type": "code",
      "execution_count": 1,
      "metadata": {
        "id": "z6vm7Hnwasuf"
      },
      "outputs": [],
      "source": [
        "#!pip install pyspark\n",
        "#!pip install pyarrow"
      ]
    },
    {
      "cell_type": "code",
      "execution_count": 2,
      "metadata": {
        "id": "PpTdGeObxgrj"
      },
      "outputs": [],
      "source": [
        "import io, json\n",
        "import pyarrow as pa\n",
        "import pyarrow.json as paj\n",
        "import pyarrow.parquet as pq\n",
        "from datetime import datetime\n",
        "from pyspark.sql import SparkSession\n",
        "spark = SparkSession.builder.appName(\"colab_spark_context\").getOrCreate()"
      ]
    },
    {
      "cell_type": "markdown",
      "metadata": {
        "id": "yMDPFES_95D_"
      },
      "source": [
        "# lista de dicionarios python"
      ]
    },
    {
      "cell_type": "code",
      "execution_count": 3,
      "metadata": {
        "colab": {
          "base_uri": "https://localhost:8080/"
        },
        "id": "Ylh0-SNhk6dI",
        "outputId": "e7797bec-81ef-4ae1-96aa-3022c399e9de"
      },
      "outputs": [
        {
          "output_type": "execute_result",
          "data": {
            "text/plain": [
              "[{'nome': 1, 'idade': 1}, {'nome': 2, 'idade': 2}]"
            ]
          },
          "metadata": {},
          "execution_count": 3
        }
      ],
      "source": [
        "data = []\n",
        "for i in range(4000000):\n",
        "    data.append({\"nome\": i+1, \"idade\": i+1})\n",
        "data[0:2]\n"
      ]
    },
    {
      "cell_type": "markdown",
      "metadata": {
        "id": "g5203dv7-RJ9"
      },
      "source": [
        "# transformando a lista de dicionarios no formato pyarrow table, levamos para parquet, pois ao que parece o pyarrow e o spark não se comunicam muito bem, mas ambos se comunicam bem com o parquet, por isso escrevemos um arquivo para acessar o df"
      ]
    },
    {
      "cell_type": "code",
      "execution_count": 4,
      "metadata": {
        "id": "cP_auYZr9_MN",
        "colab": {
          "base_uri": "https://localhost:8080/"
        },
        "outputId": "e23a63e0-ff18-4d81-d76a-7415d2b42d05"
      },
      "outputs": [
        {
          "output_type": "stream",
          "name": "stdout",
          "text": [
            "tempo de processamento: 0:00:08.341653\n"
          ]
        }
      ],
      "source": [
        "inicio = datetime.now()\n",
        "\n",
        "x = pa.Table.from_pylist(data)\n",
        "parquet_writer = pq.ParquetWriter('output_file.parquet', x.schema)\n",
        "parquet_writer.write_table(x)\n",
        "parquet_writer.close()\n",
        "df = spark.read.parquet('output_file.parquet')\n",
        "\n",
        "fim = datetime.now()\n",
        "print(\"tempo de processamento:\",(fim - inicio))"
      ]
    },
    {
      "cell_type": "code",
      "execution_count": 5,
      "metadata": {
        "id": "yWOppPLj-J-q",
        "colab": {
          "base_uri": "https://localhost:8080/"
        },
        "outputId": "12de0058-732d-4c0b-ca23-286bc97600b3"
      },
      "outputs": [
        {
          "output_type": "stream",
          "name": "stdout",
          "text": [
            "tempo de processamento: 0:01:28.099035\n"
          ]
        }
      ],
      "source": [
        "inicio = datetime.now()\n",
        "\n",
        "df = spark.createDataFrame(data)\n",
        "\n",
        "fim = datetime.now()\n",
        "print(\"tempo de processamento:\",fim - inicio)"
      ]
    },
    {
      "cell_type": "markdown",
      "metadata": {
        "id": "A0Pc4a8IFf6X"
      },
      "source": [
        "### Acima vemos uma gritante diferença, mas ainda não parece usual, visto que dificilmente vemos objetos python sendo fonte (talvez para consumir API's pode ser uma boa opção). mas uma aplicação seria interessante no caso abaixo, no qual esses dicionarios python fossem uma string, tive de lidar com arquivos parquet com string json por uma medida paliativa por conta de configurações não feitas no synapse, dessa forma com certeza se tivesse um contato anterior com arrow nesse caso eu teria sido beneficiado, veja abaixo:"
      ]
    },
    {
      "cell_type": "code",
      "execution_count": 6,
      "metadata": {
        "colab": {
          "base_uri": "https://localhost:8080/"
        },
        "id": "pGkhzuHs9PCs",
        "outputId": "e8ff88c4-1adf-4e46-e6a3-02779aa65c9e"
      },
      "outputs": [
        {
          "output_type": "execute_result",
          "data": {
            "text/plain": [
              "['{\"nome\": \"Nome 0\", \"idade\": 0}', '{\"nome\": \"Nome 1\", \"idade\": 1}']"
            ]
          },
          "metadata": {},
          "execution_count": 6
        }
      ],
      "source": [
        "data2 = []\n",
        "for i in range(4000000):\n",
        "    data2.append(f'{{\"nome\": \"Nome {i}\", \"idade\": {i}}}')\n",
        "data2[0:2]\n"
      ]
    },
    {
      "cell_type": "markdown",
      "metadata": {
        "id": "iLRWxO4cJt1S"
      },
      "source": [
        "# Transformando as strings em objetos json do pyarrow, que escreve o parquet, acessando via dataframe spark"
      ]
    },
    {
      "cell_type": "code",
      "execution_count": 7,
      "metadata": {
        "id": "E6vD7dwTbmDQ",
        "colab": {
          "base_uri": "https://localhost:8080/"
        },
        "outputId": "76be7fbc-e4a3-4b9e-a46e-88e77dbf1028"
      },
      "outputs": [
        {
          "output_type": "stream",
          "name": "stdout",
          "text": [
            "tempo de processamento: 0:00:03.289903\n"
          ]
        }
      ],
      "source": [
        "inicio = datetime.now()\n",
        "\n",
        "# o pyarrow permite que eu transforme essas strings em objetos como arquivo (file-like objects), que são acessíveis na memória,\n",
        "# onde o pyarrow nos ajuda.\n",
        "f = io.BytesIO((\"\\n\".join(data2)).encode('utf-8'))\n",
        "\n",
        "# com esses objetos conseguimos fazer a conversão para o formato json do pyarrow, o mesmo não tem compatibilidade com spark, \n",
        "#então para acessarmos, escrevemos um arquivo parquet e lemos posteriormente\n",
        "table = paj.read_json(f)\n",
        "\n",
        "#escrevendo arquivo\n",
        "parquet_writer = pq.ParquetWriter('output_file.parquet', table.schema)\n",
        "\n",
        "#escrevendo a tabela\n",
        "parquet_writer.write_table(table)\n",
        "\n",
        "parquet_writer.close()\n",
        "df = spark.read.parquet('output_file.parquet')\n",
        "\n",
        "fim = datetime.now()\n",
        "print(\"tempo de processamento:\",fim - inicio)"
      ]
    },
    {
      "cell_type": "markdown",
      "metadata": {
        "id": "oeQiq8m2HX8V"
      },
      "source": [
        "# Voltando ao python, a opção que temos é ler individualmente cada string e parsea-la, o que acaba sendo muito desvantajoso em relação ao desempenho, visto que não há a possibilidade de acessar os objetos da memória."
      ]
    },
    {
      "cell_type": "code",
      "execution_count": 8,
      "metadata": {
        "id": "da7toFwr64rz",
        "colab": {
          "base_uri": "https://localhost:8080/"
        },
        "outputId": "81f715ad-ae00-4286-e1c5-513d603ad948"
      },
      "outputs": [
        {
          "output_type": "stream",
          "name": "stdout",
          "text": [
            "tempo de processamento: 0:01:33.234896\n"
          ]
        }
      ],
      "source": [
        "inicio = datetime.now()\n",
        "\n",
        "table2 = [json.loads(y) for y in data2]\n",
        "df2 = spark.createDataFrame(table2)\n",
        "\n",
        "fim = datetime.now()\n",
        "print(\"tempo de processamento:\",fim - inicio)"
      ]
    }
  ],
  "metadata": {
    "colab": {
      "provenance": []
    },
    "kernelspec": {
      "display_name": "Python 3 (ipykernel)",
      "language": "python",
      "name": "python3"
    },
    "language_info": {
      "codemirror_mode": {
        "name": "ipython",
        "version": 3
      },
      "file_extension": ".py",
      "mimetype": "text/x-python",
      "name": "python",
      "nbconvert_exporter": "python",
      "pygments_lexer": "ipython3",
      "version": "3.10.1"
    }
  },
  "nbformat": 4,
  "nbformat_minor": 0
}